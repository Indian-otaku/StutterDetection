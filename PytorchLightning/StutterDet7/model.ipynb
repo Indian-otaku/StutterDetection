{
 "cells": [
  {
   "cell_type": "code",
   "execution_count": 1,
   "metadata": {},
   "outputs": [
    {
     "name": "stderr",
     "output_type": "stream",
     "text": [
      "c:\\Users\\Asus\\miniconda3\\envs\\majorproject\\Lib\\site-packages\\tqdm\\auto.py:21: TqdmWarning: IProgress not found. Please update jupyter and ipywidgets. See https://ipywidgets.readthedocs.io/en/stable/user_install.html\n",
      "  from .autonotebook import tqdm as notebook_tqdm\n"
     ]
    }
   ],
   "source": [
    "import os\n",
    "import random\n",
    "import shutil\n",
    "import json\n",
    "from IPython.display import Audio\n",
    "\n",
    "import numpy as np\n",
    "import pandas as pd\n",
    "import matplotlib.pyplot as plt\n",
    "import librosa\n",
    "\n",
    "import torch\n",
    "import torch.nn as nn\n",
    "from torch.utils.data import Dataset, DataLoader, random_split\n",
    "\n",
    "import torchaudio\n",
    "import torchaudio.transforms as transforms\n",
    "\n",
    "import pytorch_lightning as pl"
   ]
  },
  {
   "cell_type": "code",
   "execution_count": 2,
   "metadata": {},
   "outputs": [
    {
     "name": "stderr",
     "output_type": "stream",
     "text": [
      "Seed set to 100\n"
     ]
    },
    {
     "data": {
      "text/plain": [
       "100"
      ]
     },
     "execution_count": 2,
     "metadata": {},
     "output_type": "execute_result"
    }
   ],
   "source": [
    "pl.seed_everything(100)"
   ]
  },
  {
   "cell_type": "code",
   "execution_count": 3,
   "metadata": {},
   "outputs": [
    {
     "name": "stdout",
     "output_type": "stream",
     "text": [
      "The device is cuda\n"
     ]
    }
   ],
   "source": [
    "device = \"cuda\" if torch.cuda.is_available() else \"cpu\"\n",
    "print(\"The device is\", device)"
   ]
  },
  {
   "cell_type": "code",
   "execution_count": 4,
   "metadata": {},
   "outputs": [],
   "source": [
    "from config import Config"
   ]
  },
  {
   "cell_type": "code",
   "execution_count": null,
   "metadata": {},
   "outputs": [],
   "source": [
    "hidden_layers = Config.HIDDEN_LAYERS\n",
    "\n",
    "conv1 = nn.Sequential(\n",
    "            nn.Conv1d(\n",
    "                in_channels=Config.N_MFCC, \n",
    "                out_channels=hidden_layers[0],\n",
    "                kernel_size=5,\n",
    "                stride=1,\n",
    "                padding=2,\n",
    "                dilation=1\n",
    "            ),\n",
    "            nn.ReLU(),\n",
    "            nn.BatchNorm1d(num_features=hidden_layers[0])\n",
    "        )\n",
    "        # self.conv2 = nn.Sequential(\n",
    "        #     nn.Conv1d(\n",
    "        #         in_channels=hidden_layers[0], \n",
    "        #         out_channels=hidden_layers[1],\n",
    "        #         kernel_size=3,\n",
    "        #         stride=1,\n",
    "        #         padding=2,\n",
    "        #         dilation=2\n",
    "        #     ),\n",
    "        #     nn.ReLU(),\n",
    "        #     nn.BatchNorm1d(num_features=hidden_layers[1])\n",
    "        # )\n",
    "        # self.conv3 = nn.Sequential(\n",
    "        #     nn.Conv1d(\n",
    "        #         in_channels=hidden_layers[1], \n",
    "        #         out_channels=hidden_layers[2],\n",
    "        #         kernel_size=3,\n",
    "        #         stride=1,\n",
    "        #         padding=3,\n",
    "        #         dilation=3\n",
    "        #     ),\n",
    "        #     nn.ReLU(),\n",
    "        #     nn.BatchNorm1d(num_features=hidden_layers[2])\n",
    "        # )\n",
    "        # self.conv4 = nn.Sequential(\n",
    "        #     nn.Conv1d(\n",
    "        #         in_channels=hidden_layers[2], \n",
    "        #         out_channels=hidden_layers[3],\n",
    "        #         kernel_size=1,\n",
    "        #         stride=1,\n",
    "        #     ),\n",
    "        #     nn.ReLU(),\n",
    "        #     nn.BatchNorm1d(num_features=hidden_layers[3])\n",
    "        # )\n",
    "        # self.conv5 = nn.Sequential(\n",
    "        #     nn.Conv1d(\n",
    "        #         in_channels=hidden_layers[3], \n",
    "        #         out_channels=hidden_layers[4],\n",
    "        #         kernel_size=1,\n",
    "        #         stride=1,\n",
    "        #     ),\n",
    "        #     nn.ReLU(),\n",
    "        #     nn.BatchNorm1d(num_features=hidden_layers[4])\n",
    "        # )\n",
    "        # self.bilstm = nn.LSTM(\n",
    "        #     input_size=241,\n",
    "        #     hidden_size=hidden_layers[5],\n",
    "        #     num_layers=2,\n",
    "        #     batch_first=True,\n",
    "        #     bidirectional=True\n",
    "        # )"
   ]
  },
  {
   "cell_type": "code",
   "execution_count": null,
   "metadata": {},
   "outputs": [],
   "source": []
  },
  {
   "cell_type": "code",
   "execution_count": null,
   "metadata": {},
   "outputs": [],
   "source": []
  },
  {
   "cell_type": "code",
   "execution_count": null,
   "metadata": {},
   "outputs": [],
   "source": []
  },
  {
   "cell_type": "code",
   "execution_count": null,
   "metadata": {},
   "outputs": [],
   "source": []
  },
  {
   "cell_type": "code",
   "execution_count": null,
   "metadata": {},
   "outputs": [],
   "source": []
  }
 ],
 "metadata": {
  "kernelspec": {
   "display_name": "majorproject",
   "language": "python",
   "name": "python3"
  },
  "language_info": {
   "codemirror_mode": {
    "name": "ipython",
    "version": 3
   },
   "file_extension": ".py",
   "mimetype": "text/x-python",
   "name": "python",
   "nbconvert_exporter": "python",
   "pygments_lexer": "ipython3",
   "version": "3.12.2"
  }
 },
 "nbformat": 4,
 "nbformat_minor": 2
}
